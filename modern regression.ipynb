{
 "cells": [
  {
   "cell_type": "code",
   "execution_count": 1,
   "source": [
    "import pandas as pd\n",
    "import numpy as np\n",
    "from sklearn.linear_model import LinearRegression, RidgeCV, LassoCV\n",
    "from sklearn.metrics import mean_squared_error"
   ],
   "outputs": [],
   "metadata": {}
  },
  {
   "cell_type": "code",
   "execution_count": 25,
   "source": [
    "inp = pd.read_csv(\"./BlogFeedback/blogData_train.csv\",header=None)\n",
    "test_inp = pd.read_csv(\"./BlogFeedback/blogData_test-2012.03.31.01_00.csv\",header=None)"
   ],
   "outputs": [],
   "metadata": {}
  },
  {
   "cell_type": "markdown",
   "source": [
    "## Least Squares Regression"
   ],
   "metadata": {}
  },
  {
   "cell_type": "code",
   "execution_count": 27,
   "source": [
    "least_squares_reg = LinearRegression(normalize=True).fit(inp.iloc[:,:280], inp[[280]])"
   ],
   "outputs": [],
   "metadata": {}
  },
  {
   "cell_type": "code",
   "execution_count": 18,
   "source": [
    "least_squares_reg_pred = least_squares_reg.predict(test_inp.iloc[:,:280])\n",
    "print(\"RMSE with least squares regression\",mean_squared_error(test_inp[[280]], least_squares_reg_pred,squared=False))"
   ],
   "outputs": [
    {
     "output_type": "stream",
     "name": "stdout",
     "text": [
      "RMSE with least squares regression 40.3927510536605\n"
     ]
    }
   ],
   "metadata": {}
  },
  {
   "cell_type": "markdown",
   "source": [
    "## Ridge Regression"
   ],
   "metadata": {}
  },
  {
   "cell_type": "code",
   "execution_count": 20,
   "source": [
    "alphas = np.arange(0.01, 2.01, 0.01)\n",
    "\n",
    "ridgecv = RidgeCV(alphas = alphas, scoring = 'neg_mean_squared_error', normalize = True)\n",
    "ridgecv.fit(inp.iloc[:,:280], inp[[280]])\n",
    "print(\"Best value of alpha for ridge is \",ridgecv.alpha_)"
   ],
   "outputs": [
    {
     "output_type": "stream",
     "name": "stdout",
     "text": [
      "Best value of alpha for ridge is  0.03\n"
     ]
    }
   ],
   "metadata": {}
  },
  {
   "cell_type": "code",
   "execution_count": 21,
   "source": [
    "ridge_pred = ridgecv.predict(test_inp.iloc[:,:280])\n",
    "print(\"RMSE with ridge regression\",mean_squared_error(test_inp[[280]], ridge_pred,squared=False))"
   ],
   "outputs": [
    {
     "output_type": "stream",
     "name": "stdout",
     "text": [
      "RMSE with ridge regression 40.51754461782588\n"
     ]
    }
   ],
   "metadata": {}
  },
  {
   "cell_type": "markdown",
   "source": [
    "## Lasso"
   ],
   "metadata": {}
  },
  {
   "cell_type": "code",
   "execution_count": 28,
   "source": [
    "lassocv = LassoCV(alphas = alphas, cv = 10, max_iter = 100000, normalize = True)\n",
    "lassocv.fit(inp.iloc[:,:280], inp[[280]].values.flatten())\n",
    "print(\"Best value of alpha for ridge is \",lassocv.alpha_)"
   ],
   "outputs": [
    {
     "output_type": "stream",
     "name": "stdout",
     "text": [
      "Best value of alpha for ridge is  0.01\n"
     ]
    }
   ],
   "metadata": {}
  },
  {
   "cell_type": "code",
   "execution_count": 30,
   "source": [
    "lasso_pred = lassocv.predict(test_inp.iloc[:,:280])\n",
    "print(\"RMSE with ridge regression\",mean_squared_error(test_inp[[280]], lasso_pred,squared=False))"
   ],
   "outputs": [
    {
     "output_type": "stream",
     "name": "stdout",
     "text": [
      "RMSE with ridge regression 41.67205813354152\n"
     ]
    }
   ],
   "metadata": {}
  },
  {
   "cell_type": "markdown",
   "source": [
    "## Most important features according to LASSO"
   ],
   "metadata": {}
  },
  {
   "cell_type": "code",
   "execution_count": 32,
   "source": [
    "coeff_array = lassocv.coef_\n",
    "imp_features_index = [index+1 for index in range(len(coeff_array)) if coeff_array[index]>0]\n",
    "print(\"The important Columns according to Lasso are \",imp_features_index)"
   ],
   "outputs": [
    {
     "output_type": "stream",
     "name": "stdout",
     "text": [
      "The important Columns according to Lasso are  [6, 10, 21, 52, 55]\n"
     ]
    }
   ],
   "metadata": {}
  },
  {
   "cell_type": "code",
   "execution_count": null,
   "source": [],
   "outputs": [],
   "metadata": {}
  }
 ],
 "metadata": {
  "kernelspec": {
   "display_name": "Python 3",
   "language": "python",
   "name": "python3"
  },
  "language_info": {
   "codemirror_mode": {
    "name": "ipython",
    "version": 3
   },
   "file_extension": ".py",
   "mimetype": "text/x-python",
   "name": "python",
   "nbconvert_exporter": "python",
   "pygments_lexer": "ipython3",
   "version": "3.8.8"
  }
 },
 "nbformat": 4,
 "nbformat_minor": 5
}